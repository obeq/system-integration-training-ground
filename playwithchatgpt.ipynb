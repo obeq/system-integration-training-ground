{
 "cells": [
  {
   "cell_type": "code",
   "execution_count": 1,
   "metadata": {},
   "outputs": [],
   "source": [
    "import requests\n",
    "\n",
    "import dotenv"
   ]
  },
  {
   "cell_type": "code",
   "execution_count": 2,
   "metadata": {},
   "outputs": [],
   "source": [
    "api_url = \"https://api.openai.com/v1/chat/completions\"\n",
    "openai_key = dotenv.get_variable('.env', \"OPENAI_KEY\")"
   ]
  },
  {
   "cell_type": "code",
   "execution_count": 5,
   "metadata": {},
   "outputs": [
    {
     "name": "stdout",
     "output_type": "stream",
     "text": [
      "{'id': 'chatcmpl-9EygBZgPqe7gofzJpwxd7Y99Lf566', 'object': 'chat.completion', 'created': 1713356871, 'model': 'gpt-3.5-turbo-0125', 'choices': [{'index': 0, 'message': {'role': 'assistant', 'content': 'Ölandsbron har totalt 1560 bultar.'}, 'logprobs': None, 'finish_reason': 'stop'}], 'usage': {'prompt_tokens': 45, 'completion_tokens': 13, 'total_tokens': 58}, 'system_fingerprint': 'fp_c2295e73ad'}\n"
     ]
    }
   ],
   "source": [
    "headers = {\n",
    "    'Authorization': f'Bearer {openai_key}',\n",
    "    'Content-Type': 'application/json'\n",
    "}\n",
    "\n",
    "# Data to be sent (query)\n",
    "data = {\n",
    "    \"model\": \"gpt-3.5-turbo\",\n",
    "    \"messages\": [\n",
    "        {\n",
    "            \"role\": \"system\",\n",
    "            \"content\": \"Du är en tålmodig lärare som alltid är beredd med ett svar.\"\n",
    "        },\n",
    "        {\n",
    "            \"role\": \"user\",\n",
    "            \"content\": \"Hur många bultar finns det i Ölandsbron?!\"\n",
    "        }\n",
    "    ]\n",
    "}\n",
    "\n",
    "# Making the POST request\n",
    "response = requests.post(api_url, headers=headers, json=data)\n",
    "print(response.json())\n",
    "results = response.json()"
   ]
  },
  {
   "cell_type": "code",
   "execution_count": 13,
   "metadata": {},
   "outputs": [
    {
     "name": "stdout",
     "output_type": "stream",
     "text": [
      "{\n",
      "    \"id\": \"chatcmpl-9EygBZgPqe7gofzJpwxd7Y99Lf566\",\n",
      "    \"object\": \"chat.completion\",\n",
      "    \"created\": 1713356871,\n",
      "    \"model\": \"gpt-3.5-turbo-0125\",\n",
      "    \"choices\": [\n",
      "        {\n",
      "            \"index\": 0,\n",
      "            \"message\": {\n",
      "                \"role\": \"assistant\",\n",
      "                \"content\": \"\\u00d6landsbron har totalt 1560 bultar.\"\n",
      "            },\n",
      "            \"logprobs\": null,\n",
      "            \"finish_reason\": \"stop\"\n",
      "        }\n",
      "    ],\n",
      "    \"usage\": {\n",
      "        \"prompt_tokens\": 45,\n",
      "        \"completion_tokens\": 13,\n",
      "        \"total_tokens\": 58\n",
      "    },\n",
      "    \"system_fingerprint\": \"fp_c2295e73ad\"\n",
      "}\n"
     ]
    }
   ],
   "source": [
    "import json\n",
    "\n",
    "print(json.dumps(results, indent=4))"
   ]
  },
  {
   "cell_type": "code",
   "execution_count": 11,
   "metadata": {},
   "outputs": [
    {
     "name": "stdout",
     "output_type": "stream",
     "text": [
      "Ölandsbron har totalt 1560 bultar.\n"
     ]
    }
   ],
   "source": [
    "print(results[\"choices\"][0][\"message\"][\"content\"])"
   ]
  },
  {
   "cell_type": "code",
   "execution_count": 8,
   "metadata": {},
   "outputs": [
    {
     "data": {
      "text/plain": [
       "'värde'"
      ]
     },
     "execution_count": 8,
     "metadata": {},
     "output_type": "execute_result"
    }
   ],
   "source": [
    "exempel_dict = {\n",
    "  \"nyckel\": \"värde\",\n",
    "  \"annan nyckel\": \"annat värde\"\n",
    "}\n",
    "\n",
    "exempel_dict[\"nyckel\"]"
   ]
  }
 ],
 "metadata": {
  "kernelspec": {
   "display_name": ".venv",
   "language": "python",
   "name": "python3"
  },
  "language_info": {
   "codemirror_mode": {
    "name": "ipython",
    "version": 3
   },
   "file_extension": ".py",
   "mimetype": "text/x-python",
   "name": "python",
   "nbconvert_exporter": "python",
   "pygments_lexer": "ipython3",
   "version": "3.11.0"
  }
 },
 "nbformat": 4,
 "nbformat_minor": 2
}
