{
 "cells": [
  {
   "cell_type": "code",
   "execution_count": 3,
   "metadata": {},
   "outputs": [],
   "source": [
    "import requests\n",
    "import pandas as pd\n",
    "\n",
    "from dotenv import load_dotenv\n",
    "load_dotenv()\n",
    "\n",
    "import os"
   ]
  },
  {
   "cell_type": "code",
   "execution_count": 4,
   "metadata": {},
   "outputs": [],
   "source": [
    "import dotenv\n",
    "\n",
    "geocode_apikey = os.getenv('GEOCODE_API')"
   ]
  },
  {
   "cell_type": "markdown",
   "metadata": {},
   "source": [
    "# Location\n",
    "\n",
    "We begin by finding the latitude and longitude of a location"
   ]
  },
  {
   "cell_type": "code",
   "execution_count": 5,
   "metadata": {},
   "outputs": [],
   "source": [
    "location = \"London\""
   ]
  },
  {
   "cell_type": "code",
   "execution_count": 6,
   "metadata": {},
   "outputs": [
    {
     "name": "stdout",
     "output_type": "stream",
     "text": [
      "Latitude: 51.5074456, Longitude: -0.1277653\n"
     ]
    }
   ],
   "source": [
    "url = f\"https://geocode.maps.co/search?q={location}&api_key={geocode_apikey}\"\n",
    "\n",
    "payload = {}\n",
    "headers = {}\n",
    "\n",
    "response = requests.request(\"GET\", url, headers=headers, data=payload)\n",
    "\n",
    "data = response.json()\n",
    "lat = data[0]['lat']\n",
    "lon = data[0]['lon']\n",
    "\n",
    "print(f\"Latitude: {lat}, Longitude: {lon}\")"
   ]
  },
  {
   "cell_type": "code",
   "execution_count": 7,
   "metadata": {},
   "outputs": [
    {
     "data": {
      "text/plain": [
       "{'Date': 'Fri, 19 Apr 2024 10:59:09 GMT', 'Content-Type': 'application/json; charset=UTF-8', 'Transfer-Encoding': 'chunked', 'Connection': 'keep-alive', 'Vary': 'Accept-Encoding', 'Access-Control-Allow-Origin': '*', 'Content-Encoding': 'gzip', 'Last-Modified': 'Fri, 19 Apr 2024 10:59:09 GMT', 'CF-Cache-Status': 'MISS', 'Report-To': '{\"endpoints\":[{\"url\":\"https:\\\\/\\\\/a.nel.cloudflare.com\\\\/report\\\\/v4?s=TqsNdIYuzyexDzpYzKctpX2PoVeUcy%2FOclcsV762rAVKVKSF2wYcWvSbiHf4Lnckho%2BtsO1X%2BSywPcAV6xLCNGmnMFA%2B%2FjYbORjkGcc1WsxXBtIOZm1DZuLrj09cVWkyQQ%3D%3D\"}],\"group\":\"cf-nel\",\"max_age\":604800}', 'NEL': '{\"success_fraction\":0,\"report_to\":\"cf-nel\",\"max_age\":604800}', 'Server': 'cloudflare', 'CF-RAY': '876c622f8f7c5424-TLL'}"
      ]
     },
     "execution_count": 7,
     "metadata": {},
     "output_type": "execute_result"
    }
   ],
   "source": [
    "response.headers"
   ]
  },
  {
   "cell_type": "markdown",
   "metadata": {},
   "source": [
    "# Get the weather data\n",
    "\n",
    "We are going to use the OpenWeatherMap API to get the weather data for the location we have just geocoded."
   ]
  },
  {
   "cell_type": "code",
   "execution_count": 8,
   "metadata": {},
   "outputs": [
    {
     "name": "stdout",
     "output_type": "stream",
     "text": [
      "['2024-04-19T00:00', '2024-04-19T01:00', '2024-04-19T02:00', '2024-04-19T03:00', '2024-04-19T04:00', '2024-04-19T05:00', '2024-04-19T06:00', '2024-04-19T07:00', '2024-04-19T08:00', '2024-04-19T09:00', '2024-04-19T10:00', '2024-04-19T11:00', '2024-04-19T12:00', '2024-04-19T13:00', '2024-04-19T14:00', '2024-04-19T15:00', '2024-04-19T16:00', '2024-04-19T17:00', '2024-04-19T18:00', '2024-04-19T19:00', '2024-04-19T20:00', '2024-04-19T21:00', '2024-04-19T22:00', '2024-04-19T23:00', '2024-04-20T00:00', '2024-04-20T01:00', '2024-04-20T02:00', '2024-04-20T03:00', '2024-04-20T04:00', '2024-04-20T05:00', '2024-04-20T06:00', '2024-04-20T07:00', '2024-04-20T08:00', '2024-04-20T09:00', '2024-04-20T10:00', '2024-04-20T11:00', '2024-04-20T12:00', '2024-04-20T13:00', '2024-04-20T14:00', '2024-04-20T15:00', '2024-04-20T16:00', '2024-04-20T17:00', '2024-04-20T18:00', '2024-04-20T19:00', '2024-04-20T20:00', '2024-04-20T21:00', '2024-04-20T22:00', '2024-04-20T23:00', '2024-04-21T00:00', '2024-04-21T01:00', '2024-04-21T02:00', '2024-04-21T03:00', '2024-04-21T04:00', '2024-04-21T05:00', '2024-04-21T06:00', '2024-04-21T07:00', '2024-04-21T08:00', '2024-04-21T09:00', '2024-04-21T10:00', '2024-04-21T11:00', '2024-04-21T12:00', '2024-04-21T13:00', '2024-04-21T14:00', '2024-04-21T15:00', '2024-04-21T16:00', '2024-04-21T17:00', '2024-04-21T18:00', '2024-04-21T19:00', '2024-04-21T20:00', '2024-04-21T21:00', '2024-04-21T22:00', '2024-04-21T23:00', '2024-04-22T00:00', '2024-04-22T01:00', '2024-04-22T02:00', '2024-04-22T03:00', '2024-04-22T04:00', '2024-04-22T05:00', '2024-04-22T06:00', '2024-04-22T07:00', '2024-04-22T08:00', '2024-04-22T09:00', '2024-04-22T10:00', '2024-04-22T11:00', '2024-04-22T12:00', '2024-04-22T13:00', '2024-04-22T14:00', '2024-04-22T15:00', '2024-04-22T16:00', '2024-04-22T17:00', '2024-04-22T18:00', '2024-04-22T19:00', '2024-04-22T20:00', '2024-04-22T21:00', '2024-04-22T22:00', '2024-04-22T23:00', '2024-04-23T00:00', '2024-04-23T01:00', '2024-04-23T02:00', '2024-04-23T03:00', '2024-04-23T04:00', '2024-04-23T05:00', '2024-04-23T06:00', '2024-04-23T07:00', '2024-04-23T08:00', '2024-04-23T09:00', '2024-04-23T10:00', '2024-04-23T11:00', '2024-04-23T12:00', '2024-04-23T13:00', '2024-04-23T14:00', '2024-04-23T15:00', '2024-04-23T16:00', '2024-04-23T17:00', '2024-04-23T18:00', '2024-04-23T19:00', '2024-04-23T20:00', '2024-04-23T21:00', '2024-04-23T22:00', '2024-04-23T23:00', '2024-04-24T00:00', '2024-04-24T01:00', '2024-04-24T02:00', '2024-04-24T03:00', '2024-04-24T04:00', '2024-04-24T05:00', '2024-04-24T06:00', '2024-04-24T07:00', '2024-04-24T08:00', '2024-04-24T09:00', '2024-04-24T10:00', '2024-04-24T11:00', '2024-04-24T12:00', '2024-04-24T13:00', '2024-04-24T14:00', '2024-04-24T15:00', '2024-04-24T16:00', '2024-04-24T17:00', '2024-04-24T18:00', '2024-04-24T19:00', '2024-04-24T20:00', '2024-04-24T21:00', '2024-04-24T22:00', '2024-04-24T23:00', '2024-04-25T00:00', '2024-04-25T01:00', '2024-04-25T02:00', '2024-04-25T03:00', '2024-04-25T04:00', '2024-04-25T05:00', '2024-04-25T06:00', '2024-04-25T07:00', '2024-04-25T08:00', '2024-04-25T09:00', '2024-04-25T10:00', '2024-04-25T11:00', '2024-04-25T12:00', '2024-04-25T13:00', '2024-04-25T14:00', '2024-04-25T15:00', '2024-04-25T16:00', '2024-04-25T17:00', '2024-04-25T18:00', '2024-04-25T19:00', '2024-04-25T20:00', '2024-04-25T21:00', '2024-04-25T22:00', '2024-04-25T23:00'] [8.5, 8.8, 9.1, 9.1, 9.3, 9.7, 10.1, 10.4, 11.3, 11.6, 12.1, 11.9, 11.8, 14.4, 11.6, 12.4, 12.8, 11.7, 10.5, 9.4, 8.6, 8.0, 7.7, 7.3, 6.8, 6.2, 5.4, 4.7, 4.2, 3.8, 3.9, 4.9, 6.4, 7.7, 8.8, 9.0, 9.4, 10.1, 10.8, 10.4, 10.5, 10.2, 9.7, 8.8, 8.0, 6.8, 6.1, 5.6, 4.9, 4.3, 4.1, 3.7, 3.4, 3.1, 3.4, 4.5, 6.5, 8.1, 9.1, 10.2, 11.2, 11.6, 11.6, 11.7, 11.5, 10.9, 10.0, 9.1, 8.2, 7.4, 6.4, 5.5, 4.7, 4.1, 3.6, 3.2, 2.8, 2.5, 2.8, 4.2, 6.1, 7.5, 8.2, 8.8, 9.0, 9.2, 9.3, 9.3, 9.0, 8.6, 8.1, 7.5, 6.7, 6.1, 5.5, 5.0, 4.5, 3.9, 3.4, 3.1, 2.8, 2.6, 3.0, 4.4, 6.3, 8.0, 8.9, 9.4, 9.9, 10.3, 10.7, 10.8, 10.9, 10.7, 10.3, 9.4, 8.2, 7.3, 6.9, 6.7, 6.6, 6.5, 6.4, 6.2, 5.8, 5.4, 5.1, 5.4, 6.6, 7.7, 8.4, 9.0, 9.4, 9.9, 10.3, 10.4, 10.3, 9.9, 9.4, 8.7, 7.8, 7.1, 6.8, 6.7, 6.5, 6.0, 5.3, 4.9, 4.8, 4.9, 5.3, 6.3, 7.5, 8.7, 9.6, 10.3, 11.0, 11.7, 12.3, 12.7, 12.7, 12.5, 12.0, 11.2, 10.1, 9.2, 8.7, 8.3]\n"
     ]
    }
   ],
   "source": [
    "url = f\"https://api.open-meteo.com/v1/forecast?latitude={lat}&longitude={lon}&current=temperature_2m&hourly=temperature_2m\"\n",
    "payload = {}\n",
    "headers = {}\n",
    "\n",
    "response = requests.request(\"GET\", url, headers=headers, data=payload)\n",
    "\n",
    "temps = response.json()['hourly']['temperature_2m']\n",
    "times = response.json()['hourly']['time']\n",
    "print (times, temps)"
   ]
  },
  {
   "cell_type": "markdown",
   "metadata": {},
   "source": [
    "We then use the weather data to create a simple weather report."
   ]
  },
  {
   "cell_type": "code",
   "execution_count": 9,
   "metadata": {},
   "outputs": [],
   "source": [
    "df = pd.DataFrame({'time': times, 'temp': temps})\n",
    "\n",
    "df['time'] = pd.to_datetime(df['time'])\n",
    "\n",
    "df.set_index('time', inplace=True)"
   ]
  },
  {
   "cell_type": "code",
   "execution_count": 10,
   "metadata": {},
   "outputs": [],
   "source": [
    "import matplotlib.pyplot as plt\n",
    "\n",
    "plt.xticks(rotation=45)\n",
    "\n",
    "plt.plot(df['temp'])"
   ]
  }
 ],
 "metadata": {
  "kernelspec": {
   "display_name": ".venv",
   "language": "python",
   "name": "python3"
  },
  "language_info": {
   "codemirror_mode": {
    "name": "ipython",
    "version": 3
   },
   "file_extension": ".py",
   "mimetype": "text/x-python",
   "name": "python",
   "nbconvert_exporter": "python",
   "pygments_lexer": "ipython3",
   "version": "3.11.0"
  }
 },
 "nbformat": 4,
 "nbformat_minor": 2
}
